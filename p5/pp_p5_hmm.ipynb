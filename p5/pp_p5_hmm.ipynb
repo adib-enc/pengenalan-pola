{
  "nbformat": 4,
  "nbformat_minor": 0,
  "metadata": {
    "colab": {
      "name": "pp-p5-hmm.ipynb",
      "provenance": [],
      "collapsed_sections": []
    },
    "kernelspec": {
      "name": "python3",
      "display_name": "Python 3"
    },
    "language_info": {
      "name": "python"
    }
  },
  "cells": [
    {
      "cell_type": "markdown",
      "metadata": {
        "id": "IR1mjneiQoO2"
      },
      "source": [
        "# Prak. Pengenalan Pola - P5\n",
        "# Hidden Markov Model\n",
        "\n",
        "## 1. Percobaan"
      ]
    },
    {
      "cell_type": "code",
      "metadata": {
        "colab": {
          "base_uri": "https://localhost:8080/"
        },
        "id": "WoNurIboPiG1",
        "outputId": "c7181e76-4f92-4c32-c176-2fa98185fd26"
      },
      "source": [
        "\"\"\"\n",
        "https://stackoverflow.com/questions/49648391/how-to-install-ta-lib-in-google-colab#49660479\n",
        "!ls\n",
        "\"\"\"\n",
        "!pip install hmmlearn==0.2.2"
      ],
      "execution_count": 2,
      "outputs": [
        {
          "output_type": "stream",
          "name": "stdout",
          "text": [
            "Collecting hmmlearn==0.2.2\n",
            "  Downloading hmmlearn-0.2.2.tar.gz (146 kB)\n",
            "\u001b[?25l\r\u001b[K     |██▎                             | 10 kB 23.4 MB/s eta 0:00:01\r\u001b[K     |████▌                           | 20 kB 30.1 MB/s eta 0:00:01\r\u001b[K     |██████▊                         | 30 kB 16.3 MB/s eta 0:00:01\r\u001b[K     |█████████                       | 40 kB 11.8 MB/s eta 0:00:01\r\u001b[K     |███████████▏                    | 51 kB 5.5 MB/s eta 0:00:01\r\u001b[K     |█████████████▍                  | 61 kB 5.9 MB/s eta 0:00:01\r\u001b[K     |███████████████▊                | 71 kB 6.0 MB/s eta 0:00:01\r\u001b[K     |██████████████████              | 81 kB 5.9 MB/s eta 0:00:01\r\u001b[K     |████████████████████▏           | 92 kB 5.6 MB/s eta 0:00:01\r\u001b[K     |██████████████████████▍         | 102 kB 6.2 MB/s eta 0:00:01\r\u001b[K     |████████████████████████▋       | 112 kB 6.2 MB/s eta 0:00:01\r\u001b[K     |██████████████████████████▉     | 122 kB 6.2 MB/s eta 0:00:01\r\u001b[K     |█████████████████████████████   | 133 kB 6.2 MB/s eta 0:00:01\r\u001b[K     |███████████████████████████████▍| 143 kB 6.2 MB/s eta 0:00:01\r\u001b[K     |████████████████████████████████| 146 kB 6.2 MB/s \n",
            "\u001b[?25hRequirement already satisfied: numpy>=1.10 in /usr/local/lib/python3.7/dist-packages (from hmmlearn==0.2.2) (1.19.5)\n",
            "Requirement already satisfied: scikit-learn>=0.16 in /usr/local/lib/python3.7/dist-packages (from hmmlearn==0.2.2) (0.22.2.post1)\n",
            "Requirement already satisfied: joblib>=0.11 in /usr/local/lib/python3.7/dist-packages (from scikit-learn>=0.16->hmmlearn==0.2.2) (1.0.1)\n",
            "Requirement already satisfied: scipy>=0.17.0 in /usr/local/lib/python3.7/dist-packages (from scikit-learn>=0.16->hmmlearn==0.2.2) (1.4.1)\n",
            "Building wheels for collected packages: hmmlearn\n",
            "  Building wheel for hmmlearn (setup.py) ... \u001b[?25l\u001b[?25hdone\n",
            "  Created wheel for hmmlearn: filename=hmmlearn-0.2.2-cp37-cp37m-linux_x86_64.whl size=329717 sha256=86c6f4d6874669c25097bc008bcc0f850cf2edcb3db28fabbea70e76618d8425\n",
            "  Stored in directory: /root/.cache/pip/wheels/66/1c/c5/d5572261032ef106444475a9921466143832e4943623234be4\n",
            "Successfully built hmmlearn\n",
            "Installing collected packages: hmmlearn\n",
            "Successfully installed hmmlearn-0.2.2\n"
          ]
        }
      ]
    },
    {
      "cell_type": "code",
      "metadata": {
        "id": "Fqy326gJQO79"
      },
      "source": [
        "from hmmlearn import hmm\n",
        "import numpy as np\n",
        "import math"
      ],
      "execution_count": 3,
      "outputs": []
    },
    {
      "cell_type": "code",
      "metadata": {
        "id": "MUUOaKcvQEaC"
      },
      "source": [
        "# 1.Mendefinisikan State\n",
        "# Definisi Matrik Transisi (states)\n",
        "states = ('Rainy', 'Sunny')\n",
        "# definisi Matriks Observasi / Matrik emmisi    \n",
        "observations = ('walk', 'shop', 'clean')\n",
        "# definisi Matriks Priority\n",
        "start_probability = {'Rainy': 0.6, 'Sunny': 0.4}\n",
        " \n",
        "transition_probability = {\n",
        "    'Rainy' : {'Rainy': 0.7, 'Sunny': 0.3},\n",
        "    'Sunny' : {'Rainy': 0.4, 'Sunny': 0.6},\n",
        "}\n",
        " \n",
        "emission_probability = {\n",
        "    'Rainy' : {'walk': 0.1, 'shop': 0.4, 'clean': 0.5},\n",
        "    'Sunny' : {'walk': 0.6, 'shop': 0.3, 'clean': 0.1},\n",
        "}"
      ],
      "execution_count": 4,
      "outputs": []
    },
    {
      "cell_type": "code",
      "metadata": {
        "id": "T6WijWj9QIqc"
      },
      "source": [
        "model = hmm.MultinomialHMM(n_components=2)\n",
        "model.startprob_ = np.array([0.6, 0.4])\n",
        "model.transmat_ = np.array([\n",
        "    [0.7, 0.3],\n",
        "    [0.4, 0.6]\n",
        "])\n",
        "model.emissionprob_ = np.array([\n",
        "    [0.1, 0.4, 0.5],\n",
        "    [0.6, 0.3, 0.1]\n",
        "])"
      ],
      "execution_count": 7,
      "outputs": []
    },
    {
      "cell_type": "code",
      "metadata": {
        "colab": {
          "base_uri": "https://localhost:8080/"
        },
        "id": "bmaFzuzVQSHk",
        "outputId": "67c56f73-99d5-4a39-a989-da5c34316095"
      },
      "source": [
        "# Given a known model what is the likelihood of sequence O happening?\n",
        "# The probability of the first observation being “Walk” equals to the multiplication \n",
        "# of the initial state distribution and emission probability matrix.\n",
        "# 0.6 x 0.1 + 0.4 x 0.6 = 0.30 (30%). \n",
        "# The log likelihood is provided from calling .score.\n",
        "# catatan {'walk', 'shop','clean' }\n",
        "# Kasus untuk initial state #\n",
        "# contoh untuk observasi 'walk' \n",
        "# peluang dari model jika observasi adalah 'walk'\n",
        "# 0.6 x 0.1 + 0.4 x 0.6 = 0.30 (30%)\n",
        "\n",
        "n = model.score(np.array([[0]]))\n",
        "# print(n)\n",
        "n = math.exp(n)\n",
        "# printx(n)\n",
        "# contoh untuk observasi 'shop' \n",
        "# peluang dari model jika observasi adalah 'shop'\n",
        "# 0.6 x 0.4 + 0.4 x 0.3 = (36%)\n",
        "math.exp(model.score(np.array([[1]])))"
      ],
      "execution_count": 17,
      "outputs": [
        {
          "output_type": "execute_result",
          "data": {
            "text/plain": [
              "0.36000000000000004"
            ]
          },
          "metadata": {},
          "execution_count": 17
        }
      ]
    },
    {
      "cell_type": "code",
      "metadata": {
        "colab": {
          "base_uri": "https://localhost:8080/"
        },
        "id": "YMiPcdfkV4gi",
        "outputId": "3ecfece5-9b2a-43e1-83db-4bc8bcbc2ff8"
      },
      "source": [
        "# contoh untuk observasi 'clean' \n",
        "# peluang dari model jika observasi adalah 'clean'\n",
        "# 0.6 x 0.5 + 0.4 x 0.1 = (34%)\n",
        "math.exp(model.score(np.array([[2]])))"
      ],
      "execution_count": 9,
      "outputs": [
        {
          "output_type": "execute_result",
          "data": {
            "text/plain": [
              "0.3400000000000001"
            ]
          },
          "metadata": {},
          "execution_count": 9
        }
      ]
    },
    {
      "cell_type": "code",
      "metadata": {
        "colab": {
          "base_uri": "https://localhost:8080/"
        },
        "id": "rokynqvHV6Vf",
        "outputId": "c090c493-5487-499b-a95d-60d2ac7d0eaa"
      },
      "source": [
        "# contoh untuk observasi {'clean', 'clean'} \n",
        "# peluang dari model jika observasi {'clean', 'clean'} adalah\n",
        "\n",
        "math.exp(model.score(np.array([[2,2]])))"
      ],
      "execution_count": 10,
      "outputs": [
        {
          "output_type": "execute_result",
          "data": {
            "text/plain": [
              "0.1244"
            ]
          },
          "metadata": {},
          "execution_count": 10
        }
      ]
    },
    {
      "cell_type": "code",
      "metadata": {
        "colab": {
          "base_uri": "https://localhost:8080/"
        },
        "id": "xTjSTyH1V__l",
        "outputId": "a2909ed9-62d7-4a33-d1ec-eddf41943185"
      },
      "source": [
        "# 4.Menyelesaikan permaslahan 2 dari HMM dengan viterbi algorithm \n",
        "#==== HMM decode dengan algoritma viterbi di dalamnya ======#\n",
        "logprob, seq = model.decode(np.array([[1,2,0]]).transpose())\n",
        "print(math.exp(logprob))\n",
        "print(seq)"
      ],
      "execution_count": 11,
      "outputs": [
        {
          "output_type": "stream",
          "name": "stdout",
          "text": [
            "0.015120000000000003\n",
            "[0 0 1]\n"
          ]
        }
      ]
    },
    {
      "cell_type": "code",
      "metadata": {
        "colab": {
          "base_uri": "https://localhost:8080/"
        },
        "id": "ic4QyZSgWEYp",
        "outputId": "aa8c9b10-1a1c-4e67-8e28-4bc2205e3df0"
      },
      "source": [
        "logprob, seq = model.decode(np.array([[2,2,2]]).transpose())\n",
        "print(math.exp(logprob))\n",
        "print(seq)"
      ],
      "execution_count": 12,
      "outputs": [
        {
          "output_type": "stream",
          "name": "stdout",
          "text": [
            "0.03674999999999999\n",
            "[0 0 0]\n"
          ]
        }
      ]
    },
    {
      "cell_type": "markdown",
      "metadata": {
        "id": "xEu2kAsLQevY"
      },
      "source": [
        "## 2. Latihan\n",
        "### 1.\n",
        "1. Hitung peluang dari model jika observasi {'clean', 'clean',’walk’, ‘walk’, ‘shop’} dari model yang ada\n",
        "2. Tuliskan source code pada box di bawah ini\n",
        "\n",
        "### 2.\n",
        "1. Catat state yang paling  baik untuk untuk observasi {'clean', 'clean',’walk’, ‘walk’, ‘shop’} dari model yang ada\n",
        "2. Tuliskan  source code pada box di bawah ini"
      ]
    },
    {
      "cell_type": "code",
      "metadata": {
        "id": "NdI9bzgpQhVR"
      },
      "source": [
        "# 1.1 peluang model\n",
        "def getScore(model, emission, obs):\n",
        "  l = []\n",
        "  for e in obs:\n",
        "    l.append(emission.index(e))\n",
        "\n",
        "  return math.exp(model.score(np.array([l])))\n",
        "\n",
        "# 2.1 state yang paling baik\n",
        "def getState(model, emission, obs):\n",
        "  l = []\n",
        "  for e in obs:\n",
        "    l.append(emission.index(e))\n",
        "\n",
        "  logprob, seq = model.decode(np.array([l]).transpose())\n",
        "\n",
        "  return logprob, seq"
      ],
      "execution_count": 21,
      "outputs": []
    },
    {
      "cell_type": "code",
      "metadata": {
        "colab": {
          "base_uri": "https://localhost:8080/"
        },
        "id": "vJPaSWRXXAIh",
        "outputId": "197d13ef-2d1e-4de8-e2a3-6dad22d18327"
      },
      "source": [
        "# 1.1 peluang model\n",
        "obs = getScore(\n",
        "  model, \n",
        "  observations, \n",
        "  [\"clean\", \"clean\", \"walk\", \"walk\", \"shop\"]\n",
        ")\n",
        "obs"
      ],
      "execution_count": 19,
      "outputs": [
        {
          "output_type": "execute_result",
          "data": {
            "text/plain": [
              "0.004082395400000001"
            ]
          },
          "metadata": {},
          "execution_count": 19
        }
      ]
    },
    {
      "cell_type": "code",
      "metadata": {
        "colab": {
          "base_uri": "https://localhost:8080/"
        },
        "id": "M_jwB0qfX2t6",
        "outputId": "3e777d6d-b18f-4f4b-e724-c8273a366591"
      },
      "source": [
        "# 2.1 state yang paling baik\n",
        "getState(\n",
        "  model,\n",
        "  observations, \n",
        "  [\"clean\", \"clean\", \"walk\", \"walk\", \"shop\"]\n",
        ")\n"
      ],
      "execution_count": 22,
      "outputs": [
        {
          "output_type": "execute_result",
          "data": {
            "text/plain": [
              "(-6.7050430325404475, array([0, 0, 1, 1, 1]))"
            ]
          },
          "metadata": {},
          "execution_count": 22
        }
      ]
    }
  ]
}